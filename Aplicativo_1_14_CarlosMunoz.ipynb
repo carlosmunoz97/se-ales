{
 "cells": [
  {
   "cell_type": "markdown",
   "metadata": {},
   "source": [
    "# Aplicación 1 #\n"
   ]
  },
  {
   "cell_type": "markdown",
   "metadata": {},
   "source": [
    "## punto 1 ##\n"
   ]
  },
  {
   "cell_type": "code",
   "execution_count": 44,
   "metadata": {},
   "outputs": [],
   "source": [
    "import numpy as np # Se importa la libreria numpy\n",
    "import math as m # se importa la lubreria math"
   ]
  },
  {
   "cell_type": "code",
   "execution_count": 70,
   "metadata": {},
   "outputs": [
    {
     "name": "stdout",
     "output_type": "stream",
     "text": [
      "[ 1.   3.   0.5 -2.   6. ]\n",
      "[ 1.   7.  -1.2  5.   1. ]\n"
     ]
    }
   ],
   "source": [
    "a= np.array([1, 3, 0.5, -2, 6]) # Se crean los vectores haciendo uso de numpy\n",
    "b= np.array([1, 7, -1.2, 5, 1])\n",
    "print(a)\n",
    "print(b)"
   ]
  },
  {
   "cell_type": "markdown",
   "metadata": {},
   "source": [
    "## punto 2 ##"
   ]
  },
  {
   "cell_type": "code",
   "execution_count": 71,
   "metadata": {},
   "outputs": [
    {
     "name": "stdout",
     "output_type": "stream",
     "text": [
      "[  1.   21.   -0.6 -10.    6. ]\n",
      "17.4\n"
     ]
    }
   ],
   "source": [
    "c=a*b\n",
    "print(c)#esta operación realiza la multiplicacion de elemento a elemento en los vectores creando un nuevo vector\n",
    "suma=0; #variable que guardara la suma de elemento a elemento \n",
    "for i in range(0,c.size): #para el producto escalar se realiza la multiplicacion de elemento a elemento en los vectores y se los suma como se realiza en el ciclo for.\n",
    "    suma=suma+c[i]\n",
    "print(suma)"
   ]
  },
  {
   "cell_type": "markdown",
   "metadata": {},
   "source": [
    "## punto 3 ##"
   ]
  },
  {
   "cell_type": "code",
   "execution_count": 19,
   "metadata": {},
   "outputs": [
    {
     "name": "stdout",
     "output_type": "stream",
     "text": [
      "[  1.   21.   -0.6 -10.    6. ]\n"
     ]
    }
   ],
   "source": [
    "c=a*b # Multiplicación punto a punto de a y b\n",
    "print(c)"
   ]
  },
  {
   "cell_type": "markdown",
   "metadata": {},
   "source": [
    "## punto 4 ##\n"
   ]
  },
  {
   "cell_type": "code",
   "execution_count": 26,
   "metadata": {},
   "outputs": [
    {
     "name": "stdout",
     "output_type": "stream",
     "text": [
      "[[ 5.   7.  -3. ]\n",
      " [ 4.   1.5 -2. ]\n",
      " [ 7.  -9.   0.2]]\n"
     ]
    }
   ],
   "source": [
    "A = np.array([(5, 7, -3), (4, 1.5, -2), (7,-9, 0.2)]) #creacion de una matriz usando numpy\n",
    "print(A) "
   ]
  },
  {
   "cell_type": "markdown",
   "metadata": {},
   "source": [
    "## punto 5 ##"
   ]
  },
  {
   "cell_type": "code",
   "execution_count": 29,
   "metadata": {},
   "outputs": [
    {
     "name": "stdout",
     "output_type": "stream",
     "text": [
      "[[ 5.   4.   7. ]\n",
      " [ 7.   1.5 -9. ]\n",
      " [-3.  -2.   0.2]]\n"
     ]
    }
   ],
   "source": [
    "Atranspuesta=np.transpose(A) # comando para transponer la matriz A\n",
    "print(Atranspuesta)\n"
   ]
  },
  {
   "cell_type": "markdown",
   "metadata": {},
   "source": [
    "## punto 6 ##"
   ]
  },
  {
   "cell_type": "code",
   "execution_count": 45,
   "metadata": {},
   "outputs": [
    {
     "name": "stdout",
     "output_type": "stream",
     "text": [
      "[[[1. 1. 1. 1.]\n",
      "  [1. 1. 1. 1.]\n",
      "  [1. 1. 1. 1.]\n",
      "  [1. 1. 1. 1.]\n",
      "  [1. 1. 1. 1.]\n",
      "  [1. 1. 1. 1.]\n",
      "  [1. 1. 1. 1.]\n",
      "  [1. 1. 1. 1.]]\n",
      "\n",
      " [[1. 1. 1. 1.]\n",
      "  [1. 1. 1. 1.]\n",
      "  [1. 1. 1. 1.]\n",
      "  [1. 1. 1. 1.]\n",
      "  [1. 1. 1. 1.]\n",
      "  [1. 1. 1. 1.]\n",
      "  [1. 1. 1. 1.]\n",
      "  [1. 1. 1. 1.]]]\n",
      "3.868\n",
      "598 599\n"
     ]
    }
   ],
   "source": [
    "unos=np.ones((2,8,4)) #Crea un arreglo de unos, en este caso de 8 filas, 4 columnas y 2 de profundidad\n",
    "print (unos)\n",
    "redondeo=round(3.86782,3) #redondea un numero en punto flotante, con el numero especificado de decimales  \n",
    "print(redondeo) \n",
    "fl=m.floor(598.36) #redondea al numero entero mayor, no mayor que el numero dado\n",
    "ce=m.ceil(598.36) #redondea al numero entero menor, no menor aue el numero dado\n",
    "print(fl,ce)"
   ]
  },
  {
   "cell_type": "markdown",
   "metadata": {},
   "source": [
    "## punto 7 ##\n"
   ]
  },
  {
   "cell_type": "code",
   "execution_count": 46,
   "metadata": {},
   "outputs": [
    {
     "name": "stdout",
     "output_type": "stream",
     "text": [
      "-3.0\n"
     ]
    }
   ],
   "source": [
    "valor=A[0,2] #accede al valor de la primera fila, tercera columna de la matriz A\n",
    "print(valor)"
   ]
  },
  {
   "cell_type": "markdown",
   "metadata": {},
   "source": [
    "## punto 8 ##"
   ]
  },
  {
   "cell_type": "code",
   "execution_count": 49,
   "metadata": {},
   "outputs": [
    {
     "name": "stdout",
     "output_type": "stream",
     "text": [
      "[ 4.   1.5 -2. ]\n"
     ]
    }
   ],
   "source": [
    "fila=A[1,:] #se obtiene toda la segunda fila de la matriz A, siendo el primer termino la fila y el segundo la columna; el \":\" indica que se toma todas las columnas (en este caso)\n",
    "print(fila)"
   ]
  },
  {
   "cell_type": "markdown",
   "metadata": {},
   "source": [
    "## punto 9 ##"
   ]
  },
  {
   "cell_type": "code",
   "execution_count": 54,
   "metadata": {},
   "outputs": [
    {
     "data": {
      "text/plain": [
       "(3, 3)"
      ]
     },
     "execution_count": 54,
     "metadata": {},
     "output_type": "execute_result"
    }
   ],
   "source": [
    "A.shape #Este comando muestra las dimensiones de una matriz, en cuanto a numero de filas, numero de columnas, o demas dimensiones"
   ]
  },
  {
   "cell_type": "markdown",
   "metadata": {},
   "source": [
    "## punto 10 ##"
   ]
  },
  {
   "cell_type": "code",
   "execution_count": 63,
   "metadata": {},
   "outputs": [
    {
     "name": "stdout",
     "output_type": "stream",
     "text": [
      "[ 0.00000000e+00  1.87381315e-01  3.68124553e-01  5.35826795e-01\n",
      "  6.84547106e-01  8.09016994e-01  9.04827052e-01  9.68583161e-01\n",
      "  9.98026728e-01  9.92114701e-01  9.51056516e-01  8.76306680e-01\n",
      "  7.70513243e-01  6.37423990e-01  4.81753674e-01  3.09016994e-01\n",
      "  1.25333234e-01 -6.27905195e-02 -2.48689887e-01 -4.25779292e-01\n",
      " -5.87785252e-01 -7.28968627e-01 -8.44327926e-01 -9.29776486e-01\n",
      " -9.82287251e-01 -1.00000000e+00 -9.82287251e-01 -9.29776486e-01\n",
      " -8.44327926e-01 -7.28968627e-01 -5.87785252e-01 -4.25779292e-01\n",
      " -2.48689887e-01 -6.27905195e-02  1.25333234e-01  3.09016994e-01\n",
      "  4.81753674e-01  6.37423990e-01  7.70513243e-01  8.76306680e-01\n",
      "  9.51056516e-01  9.92114701e-01  9.98026728e-01  9.68583161e-01\n",
      "  9.04827052e-01  8.09016994e-01  6.84547106e-01  5.35826795e-01\n",
      "  3.68124553e-01  1.87381315e-01  3.67394040e-16 -1.87381315e-01\n",
      " -3.68124553e-01 -5.35826795e-01 -6.84547106e-01 -8.09016994e-01\n",
      " -9.04827052e-01 -9.68583161e-01 -9.98026728e-01 -9.92114701e-01\n",
      " -9.51056516e-01 -8.76306680e-01 -7.70513243e-01 -6.37423990e-01\n",
      " -4.81753674e-01 -3.09016994e-01 -1.25333234e-01  6.27905195e-02\n",
      "  2.48689887e-01  4.25779292e-01  5.87785252e-01  7.28968627e-01\n",
      "  8.44327926e-01  9.29776486e-01  9.82287251e-01  1.00000000e+00\n",
      "  9.82287251e-01  9.29776486e-01  8.44327926e-01  7.28968627e-01\n",
      "  5.87785252e-01  4.25779292e-01  2.48689887e-01  6.27905195e-02\n",
      " -1.25333234e-01 -3.09016994e-01 -4.81753674e-01 -6.37423990e-01\n",
      " -7.70513243e-01 -8.76306680e-01 -9.51056516e-01 -9.92114701e-01\n",
      " -9.98026728e-01 -9.68583161e-01 -9.04827052e-01 -8.09016994e-01\n",
      " -6.84547106e-01 -5.35826795e-01 -3.68124553e-01 -1.87381315e-01\n",
      " -7.34788079e-16]\n"
     ]
    },
    {
     "data": {
      "text/plain": [
       "101"
      ]
     },
     "execution_count": 63,
     "metadata": {},
     "output_type": "execute_result"
    }
   ],
   "source": [
    "from math import pi #se importa pi para usarlo en la funcion\n",
    "n=np.array(list(range(101))) # se crea el vector n a partir de una lista que va de 0 a 100\n",
    "y=np.sin(2*pi*0.03*n) # se genera la funcion y se guarda en \"y\"\n",
    "print(y)"
   ]
  },
  {
   "cell_type": "markdown",
   "metadata": {},
   "source": [
    "## punto 11 ##"
   ]
  },
  {
   "cell_type": "code",
   "execution_count": 67,
   "metadata": {},
   "outputs": [
    {
     "name": "stdout",
     "output_type": "stream",
     "text": [
      "[ 1.00000000e+00  9.51056516e-01  8.09016994e-01  5.87785252e-01\n",
      "  3.09016994e-01  6.12323400e-17 -3.09016994e-01 -5.87785252e-01\n",
      " -8.09016994e-01 -9.51056516e-01 -1.00000000e+00 -9.51056516e-01\n",
      " -8.09016994e-01 -5.87785252e-01 -3.09016994e-01 -1.83697020e-16\n",
      "  3.09016994e-01  5.87785252e-01  8.09016994e-01  9.51056516e-01\n",
      "  1.00000000e+00  9.51056516e-01  8.09016994e-01  5.87785252e-01\n",
      "  3.09016994e-01  3.06161700e-16 -3.09016994e-01 -5.87785252e-01\n",
      " -8.09016994e-01 -9.51056516e-01 -1.00000000e+00 -9.51056516e-01\n",
      " -8.09016994e-01 -5.87785252e-01 -3.09016994e-01 -4.28626380e-16\n",
      "  3.09016994e-01  5.87785252e-01  8.09016994e-01  9.51056516e-01\n",
      "  1.00000000e+00  9.51056516e-01  8.09016994e-01  5.87785252e-01\n",
      "  3.09016994e-01  5.51091060e-16 -3.09016994e-01 -5.87785252e-01\n",
      " -8.09016994e-01 -9.51056516e-01 -1.00000000e+00 -9.51056516e-01\n",
      " -8.09016994e-01 -5.87785252e-01 -3.09016994e-01 -2.44991258e-15\n",
      "  3.09016994e-01  5.87785252e-01  8.09016994e-01  9.51056516e-01\n",
      "  1.00000000e+00  9.51056516e-01  8.09016994e-01  5.87785252e-01\n",
      "  3.09016994e-01 -9.80336420e-16 -3.09016994e-01 -5.87785252e-01\n",
      " -8.09016994e-01 -9.51056516e-01 -1.00000000e+00 -9.51056516e-01\n",
      " -8.09016994e-01 -5.87785252e-01 -3.09016994e-01 -2.69484194e-15\n",
      "  3.09016994e-01  5.87785252e-01  8.09016994e-01  9.51056516e-01\n",
      "  1.00000000e+00  9.51056516e-01  8.09016994e-01  5.87785252e-01\n",
      "  3.09016994e-01 -7.35407060e-16 -3.09016994e-01 -5.87785252e-01\n",
      " -8.09016994e-01 -9.51056516e-01 -1.00000000e+00 -9.51056516e-01\n",
      " -8.09016994e-01 -5.87785252e-01 -3.09016994e-01 -2.93977130e-15\n",
      "  3.09016994e-01  5.87785252e-01  8.09016994e-01  9.51056516e-01\n",
      "  1.00000000e+00]\n"
     ]
    }
   ],
   "source": [
    "y2=np.cos(2*pi*0.05*n) #se implementa la función pedida\n",
    "print(y2)"
   ]
  },
  {
   "cell_type": "markdown",
   "metadata": {},
   "source": [
    "## punto 12 ##"
   ]
  },
  {
   "cell_type": "code",
   "execution_count": 73,
   "metadata": {},
   "outputs": [
    {
     "name": "stdout",
     "output_type": "stream",
     "text": [
      "[ 1.          1.13843783  1.17714155  1.12361205  0.9935641   0.80901699\n",
      "  0.59581006  0.38079791  0.18900973  0.04105819 -0.04894348 -0.07474984\n",
      " -0.03850375  0.04963874  0.17273668  0.30901699  0.43435023  0.52499473\n",
      "  0.56032711  0.52527722  0.41221475  0.22208789 -0.03531093 -0.34199123\n",
      " -0.67327026 -1.         -1.29130425 -1.51756174 -1.65334492 -1.68002514\n",
      " -1.58778525 -1.37683581 -1.05770688 -0.65057577 -0.18368376  0.30901699\n",
      "  0.79077067  1.22520924  1.57953024  1.8273632   1.95105652  1.94317122\n",
      "  1.80704372  1.55636841  1.21384405  0.80901699  0.37553011 -0.05195846\n",
      " -0.44089244 -0.7636752  -1.         -1.13843783 -1.17714155 -1.12361205\n",
      " -0.9935641  -0.80901699 -0.59581006 -0.38079791 -0.18900973 -0.04105819\n",
      "  0.04894348  0.07474984  0.03850375 -0.04963874 -0.17273668 -0.30901699\n",
      " -0.43435023 -0.52499473 -0.56032711 -0.52527722 -0.41221475 -0.22208789\n",
      "  0.03531093  0.34199123  0.67327026  1.          1.29130425  1.51756174\n",
      "  1.65334492  1.68002514  1.58778525  1.37683581  1.05770688  0.65057577\n",
      "  0.18368376 -0.30901699 -0.79077067 -1.22520924 -1.57953024 -1.8273632\n",
      " -1.95105652 -1.94317122 -1.80704372 -1.55636841 -1.21384405 -0.80901699\n",
      " -0.37553011  0.05195846  0.44089244  0.7636752   1.        ]\n",
      "[ 0.00000000e+00  1.87381315e-01  3.68124553e-01  5.35826795e-01\n",
      "  6.84547106e-01  8.09016994e-01  9.04827052e-01  9.68583161e-01\n",
      "  9.98026728e-01  9.92114701e-01  9.51056516e-01  8.76306680e-01\n",
      "  7.70513243e-01  6.37423990e-01  4.81753674e-01  3.09016994e-01\n",
      "  1.25333234e-01 -6.27905195e-02 -2.48689887e-01 -4.25779292e-01\n",
      " -5.87785252e-01 -7.28968627e-01 -8.44327926e-01 -9.29776486e-01\n",
      " -9.82287251e-01 -1.00000000e+00 -9.82287251e-01 -9.29776486e-01\n",
      " -8.44327926e-01 -7.28968627e-01 -5.87785252e-01 -4.25779292e-01\n",
      " -2.48689887e-01 -6.27905195e-02  1.25333234e-01  3.09016994e-01\n",
      "  4.81753674e-01  6.37423990e-01  7.70513243e-01  8.76306680e-01\n",
      "  9.51056516e-01  9.92114701e-01  9.98026728e-01  9.68583161e-01\n",
      "  9.04827052e-01  8.09016994e-01  6.84547106e-01  5.35826795e-01\n",
      "  3.68124553e-01  1.87381315e-01  3.67394040e-16 -1.87381315e-01\n",
      " -3.68124553e-01 -5.35826795e-01 -6.84547106e-01 -8.09016994e-01\n",
      " -9.04827052e-01 -9.68583161e-01 -9.98026728e-01 -9.92114701e-01\n",
      " -9.51056516e-01 -8.76306680e-01 -7.70513243e-01 -6.37423990e-01\n",
      " -4.81753674e-01 -3.09016994e-01 -1.25333234e-01  6.27905195e-02\n",
      "  2.48689887e-01  4.25779292e-01  5.87785252e-01  7.28968627e-01\n",
      "  8.44327926e-01  9.29776486e-01  9.82287251e-01  1.00000000e+00\n",
      "  9.82287251e-01  9.29776486e-01  8.44327926e-01  7.28968627e-01\n",
      "  5.87785252e-01  4.25779292e-01  2.48689887e-01  6.27905195e-02\n",
      " -1.25333234e-01 -3.09016994e-01 -4.81753674e-01 -6.37423990e-01\n",
      " -7.70513243e-01 -8.76306680e-01 -9.51056516e-01 -9.92114701e-01\n",
      " -9.98026728e-01 -9.68583161e-01 -9.04827052e-01 -8.09016994e-01\n",
      " -6.84547106e-01 -5.35826795e-01 -3.68124553e-01 -1.87381315e-01\n",
      " -7.34788079e-16]\n"
     ]
    }
   ],
   "source": [
    "s=y+y2 #se suma punto a punto para la nueva señal \n",
    "print(s)\n",
    "t=y*y2 #se multiplica punto a punto para la nueva señal \n",
    "print(y)"
   ]
  },
  {
   "cell_type": "markdown",
   "metadata": {},
   "source": [
    "## punto 13 ##"
   ]
  },
  {
   "cell_type": "code",
   "execution_count": 81,
   "metadata": {},
   "outputs": [
    {
     "data": {
      "image/png": "[encoded data removed]",
      "text/plain": [
       "<Figure size 432x288 with 1 Axes>"
      ]
     },
     "metadata": {
      "needs_background": "light"
     },
     "output_type": "display_data"
    }
   ],
   "source": [
    "import matplotlib.pyplot as plt #libreria para realizar los graficos\n",
    "plt.plot(n,y,label = \"y\")#dibuja la señal y genera su nombre\n",
    "plt.plot(n,y2, label=\"y2\")\n",
    "plt.title('Grafica y, y2 en funcion de n') #titulo de la grafica\n",
    "plt.xlabel('n') #titulo de los ejes\n",
    "plt.ylabel('señales')\n",
    "plt.legend() #genera la leyenda\n",
    "plt.show() #muestra las graficas en la figura"
   ]
  },
  {
   "cell_type": "code",
   "execution_count": null,
   "metadata": {},
   "outputs": [],
   "source": []
  }
 ],
 "metadata": {
  "kernelspec": {
   "display_name": "Python 3",
   "language": "python",
   "name": "python3"
  },
  "language_info": {
   "codemirror_mode": {
    "name": "ipython",
    "version": 3
   },
   "file_extension": ".py",
   "mimetype": "text/x-python",
   "name": "python",
   "nbconvert_exporter": "python",
   "pygments_lexer": "ipython3",
   "version": "3.7.1"
  }
 },
 "nbformat": 4,
 "nbformat_minor": 2
}
